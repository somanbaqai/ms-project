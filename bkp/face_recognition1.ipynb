{
 "cells": [
  {
   "cell_type": "code",
   "execution_count": 1,
   "id": "dfd13df9",
   "metadata": {},
   "outputs": [],
   "source": [
    "# !pip install opencv-python"
   ]
  },
  {
   "cell_type": "code",
   "execution_count": 2,
   "id": "3719daf3",
   "metadata": {},
   "outputs": [],
   "source": [
    "import cv2\n",
    "import numpy\n",
    "from PIL import Image\n",
    "import glob\n",
    "import shutil\n",
    "import os"
   ]
  },
  {
   "cell_type": "code",
   "execution_count": 3,
   "id": "05aa088e",
   "metadata": {},
   "outputs": [],
   "source": [
    "faces = ()\n",
    "cascpath =  cv2.data.haarcascades + \"haarcascade_frontalface_default.xml\"\n",
    "faceCascase = cv2.CascadeClassifier(cascpath)"
   ]
  },
  {
   "cell_type": "code",
   "execution_count": 4,
   "id": "041358a3",
   "metadata": {},
   "outputs": [
    {
     "name": "stderr",
     "output_type": "stream",
     "text": [
      "/var/folders/1p/dhxx0_vn509cdwxj1pb5l0640000gn/T/ipykernel_19308/279801819.py:3: DeprecationWarning: elementwise comparison failed; this will raise an error in the future.\n",
      "  while faces == ():\n"
     ]
    }
   ],
   "source": [
    "video_capture = cv2.VideoCapture(0)\n",
    "frame1 = []\n",
    "while faces == ():\n",
    "    ret, frame1 = video_capture.read()\n",
    "    gray = cv2.cvtColor(frame1, cv2.COLOR_BGR2GRAY)\n",
    "    faces = faceCascase.detectMultiScale(gray,scaleFactor= 1.1, minNeighbors = 5, minSize = (30,30))\n",
    "    \n",
    "    for(x1,y1,w1,h1) in faces:\n",
    "        cv2.rectangle(frame1,(x1,y1),(x1+w1,y1+h1),(0,255,0),2)\n",
    "    \n",
    "#     cv2.imshow('Video', frame1)\n",
    "    \n",
    "#     if(cv2.waitKey(1) & 0xff == ord('q')):\n",
    "#         break\n",
    "video_capture.release()\n",
    "faces = ()\n",
    "cv2.destroyAllWindows()"
   ]
  },
  {
   "cell_type": "code",
   "execution_count": 5,
   "id": "a60f4152",
   "metadata": {},
   "outputs": [
    {
     "name": "stdout",
     "output_type": "stream",
     "text": [
      "498 138 374 374\n"
     ]
    }
   ],
   "source": [
    "frame1 = frame1[:,:,0]\n",
    "im = Image.fromarray(frame1)\n",
    "im.save('me_org.jpeg')\n",
    "frame3=frame1[y1:y1+h1,x1:x1+w1]\n",
    "im = Image.fromarray(frame3)\n",
    "im.save('me3.jpeg')\n",
    "\n",
    "print(x1,y1,w1,h1)"
   ]
  }
 ],
 "metadata": {
  "kernelspec": {
   "display_name": "Python 3 (ipykernel)",
   "language": "python",
   "name": "python3"
  },
  "language_info": {
   "codemirror_mode": {
    "name": "ipython",
    "version": 3
   },
   "file_extension": ".py",
   "mimetype": "text/x-python",
   "name": "python",
   "nbconvert_exporter": "python",
   "pygments_lexer": "ipython3",
   "version": "3.9.7"
  }
 },
 "nbformat": 4,
 "nbformat_minor": 5
}
