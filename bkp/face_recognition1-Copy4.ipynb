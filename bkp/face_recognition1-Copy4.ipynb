{
 "cells": [
  {
   "cell_type": "code",
   "execution_count": 1,
   "id": "4dc94fd6",
   "metadata": {},
   "outputs": [],
   "source": [
    "# !pip install opencv-python"
   ]
  },
  {
   "cell_type": "code",
   "execution_count": 2,
   "id": "dedc6388",
   "metadata": {},
   "outputs": [],
   "source": [
    "import cv2\n",
    "import numpy\n",
    "from PIL import Image\n",
    "import glob\n",
    "import shutil\n",
    "import os"
   ]
  },
  {
   "cell_type": "code",
   "execution_count": 3,
   "id": "b7d14701",
   "metadata": {},
   "outputs": [],
   "source": [
    "faces = ()\n",
    "cascpath =  cv2.data.haarcascades + \"haarcascade_frontalface_default.xml\"\n",
    "# faceCascase = cv2.CascadeClassifier(cascpath)\n",
    "# try:\n",
    "#     shutil.rmtree('captured-img/')\n",
    "# except:    \n",
    "#     print(\"test\")\n",
    "\n",
    "\n",
    "# os.makedirs('captured-img/')\n",
    "# os.makedirs('processed-img/')"
   ]
  },
  {
   "cell_type": "code",
   "execution_count": 4,
   "id": "d495568f",
   "metadata": {},
   "outputs": [],
   "source": [
    "# im = Image.fromarray(frame1)\n",
    "# im.save('me.jpeg')"
   ]
  },
  {
   "cell_type": "code",
   "execution_count": 5,
   "id": "d20a9733",
   "metadata": {},
   "outputs": [
    {
     "name": "stderr",
     "output_type": "stream",
     "text": [
      "<>:4: SyntaxWarning: \"is\" with a literal. Did you mean \"==\"?\n",
      "<>:4: SyntaxWarning: \"is\" with a literal. Did you mean \"==\"?\n",
      "/var/folders/1p/dhxx0_vn509cdwxj1pb5l0640000gn/T/ipykernel_18576/2251651707.py:4: SyntaxWarning: \"is\" with a literal. Did you mean \"==\"?\n",
      "  while faces1 is ():\n"
     ]
    }
   ],
   "source": [
    "faceCascase1 = cv2.CascadeClassifier(cascpath)\n",
    "faces1 = ()\n",
    "video_capture1 = cv2.VideoCapture(0)\n",
    "while faces1 is ():\n",
    "    ret1, frame2 = video_capture1.read()\n",
    "    gray = cv2.cvtColor(frame2, cv2.COLOR_BGR2GRAY)\n",
    "    faces1 = faceCascase1.detectMultiScale(gray,scaleFactor= 1.1, minNeighbors = 5, minSize = (30,30))\n",
    "    \n",
    "    for(x2,y2,w2,h2) in faces1:\n",
    "        cv2.rectangle(frame2,(x2,y2),(x2+w2,y2+h2),(0,255,0),2)\n",
    "    \n",
    "    cv2.imshow('Video', frame2)\n",
    "    \n",
    "    if(cv2.waitKey(1) & 0xff == ord('q')):\n",
    "        break\n",
    "video_capture1.release()\n",
    "# print(faces1)\n",
    "faces1 = ()\n",
    "cv2.destroyAllWindows()\n",
    "\n",
    "\n",
    "# frame2 = frame2[:,:,0]\n",
    "# frame4=frame2[y2:y2+h2,x2:x2+w2]\n",
    "# im = Image.fromarray(frame4)\n",
    "# im.save('me2_captured.jpeg')"
   ]
  },
  {
   "cell_type": "code",
   "execution_count": 6,
   "id": "f99118c5",
   "metadata": {},
   "outputs": [],
   "source": [
    "import numpy as np\n",
    "im = Image.open(\"captured-img.jpeg\")\n",
    "frame3 = np.asarray(im)\n",
    "# frame3=frame3[y2:y2+h2,x2:x2+w2]\n",
    "# im = Image.fromarray(frame3)"
   ]
  },
  {
   "cell_type": "code",
   "execution_count": 7,
   "id": "bf6f6edb",
   "metadata": {},
   "outputs": [],
   "source": [
    "frame2 = frame2[:,:,0]\n",
    "frame4=frame2[y2:y2+h2,x2:x2+w2]\n",
    "im = Image.fromarray(frame4)\n",
    "im.save('me2_captured.jpeg')"
   ]
  },
  {
   "cell_type": "code",
   "execution_count": 8,
   "id": "b0e3810f",
   "metadata": {},
   "outputs": [],
   "source": [
    "registered_face = []\n",
    "new_face = []\n",
    "for v in numpy.nditer(frame3):\n",
    "    registered_face.append(v)\n",
    "for w in numpy.nditer(frame4):\n",
    "    new_face.append(w)"
   ]
  },
  {
   "cell_type": "code",
   "execution_count": 9,
   "id": "48b6973e",
   "metadata": {},
   "outputs": [],
   "source": [
    "if(len(registered_face)>len(new_face)):\n",
    "    leng = len(new_face)\n",
    "else:\n",
    "    leng = len(registered_face)"
   ]
  },
  {
   "cell_type": "code",
   "execution_count": 10,
   "id": "880d7eb7",
   "metadata": {},
   "outputs": [],
   "source": [
    "q=0\n",
    "for i in range(leng):\n",
    "    registered_face[i] = (registered_face[i]/10).astype(int)\n",
    "    new_face[i] = (new_face[i]/10).astype(int)\n",
    "    if(registered_face[i] == new_face[i]):\n",
    "        q=q+1"
   ]
  },
  {
   "cell_type": "code",
   "execution_count": 11,
   "id": "84d40b23",
   "metadata": {},
   "outputs": [
    {
     "name": "stdout",
     "output_type": "stream",
     "text": [
      "2368\n",
      "34969\n"
     ]
    },
    {
     "data": {
      "text/plain": [
       "6.771712087849238"
      ]
     },
     "execution_count": 11,
     "metadata": {},
     "output_type": "execute_result"
    }
   ],
   "source": [
    "print(q)\n",
    "print(leng)\n",
    "\n",
    "(q/leng) * 100"
   ]
  },
  {
   "cell_type": "code",
   "execution_count": null,
   "id": "283c9f93",
   "metadata": {},
   "outputs": [],
   "source": []
  },
  {
   "cell_type": "code",
   "execution_count": null,
   "id": "59957eb8",
   "metadata": {},
   "outputs": [],
   "source": []
  }
 ],
 "metadata": {
  "kernelspec": {
   "display_name": "Python 3 (ipykernel)",
   "language": "python",
   "name": "python3"
  },
  "language_info": {
   "codemirror_mode": {
    "name": "ipython",
    "version": 3
   },
   "file_extension": ".py",
   "mimetype": "text/x-python",
   "name": "python",
   "nbconvert_exporter": "python",
   "pygments_lexer": "ipython3",
   "version": "3.9.7"
  }
 },
 "nbformat": 4,
 "nbformat_minor": 5
}
