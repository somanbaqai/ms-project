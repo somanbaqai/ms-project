{
 "cells": [
  {
   "cell_type": "code",
   "execution_count": 1,
   "id": "dfd13df9",
   "metadata": {},
   "outputs": [],
   "source": [
    "# !pip install opencv-python"
   ]
  },
  {
   "cell_type": "code",
   "execution_count": 2,
   "id": "3719daf3",
   "metadata": {},
   "outputs": [],
   "source": [
    "import cv2\n",
    "import numpy\n",
    "from PIL import Image\n",
    "import glob\n",
    "import shutil\n",
    "import os"
   ]
  },
  {
   "cell_type": "code",
   "execution_count": 3,
   "id": "05aa088e",
   "metadata": {},
   "outputs": [],
   "source": [
    "faces = ()\n",
    "cascpath =  cv2.data.haarcascades + \"haarcascade_frontalface_default.xml\"\n",
    "faceCascase = cv2.CascadeClassifier(cascpath)\n",
    "shutil.rmtree('original-img/')\n",
    "shutil.rmtree('processed-img/')\n",
    "\n",
    "os.makedirs('original-img/')\n",
    "os.makedirs('processed-img/')"
   ]
  },
  {
   "cell_type": "code",
   "execution_count": 4,
   "id": "041358a3",
   "metadata": {},
   "outputs": [
    {
     "name": "stdout",
     "output_type": "stream",
     "text": [
      "51\n",
      "0\n",
      "1\n",
      "2\n",
      "3\n",
      "4\n",
      "5\n",
      "6\n",
      "7\n",
      "8\n",
      "9\n",
      "10\n",
      "11\n",
      "12\n",
      "13\n",
      "14\n",
      "15\n",
      "16\n",
      "17\n",
      "18\n",
      "19\n",
      "20\n",
      "21\n",
      "22\n",
      "23\n",
      "24\n",
      "25\n",
      "26\n",
      "27\n",
      "28\n",
      "29\n",
      "30\n",
      "31\n",
      "32\n",
      "33\n",
      "34\n",
      "35\n",
      "36\n",
      "37\n",
      "38\n",
      "39\n",
      "40\n",
      "41\n",
      "42\n",
      "43\n",
      "44\n",
      "45\n",
      "46\n",
      "47\n",
      "48\n",
      "49\n",
      "50\n"
     ]
    }
   ],
   "source": [
    "# video_capture = cv2.VideoCapture(0)\n",
    "# frame1 = []\n",
    "# while faces == ():\n",
    "#     ret, frame1 = video_capture.read()\n",
    "#     frame1 = cv2.imread(\"me-test.jpeg\", 1)\n",
    "images = [cv2.imread(file) for file in glob.glob(\"69000/*.png\")]\n",
    "# print (len(images))\n",
    "idx = 0;\n",
    "for frame1 in images:\n",
    "#     print (idx)\n",
    "    gray = cv2.cvtColor(frame1, cv2.COLOR_BGR2GRAY)\n",
    "    faces = faceCascase.detectMultiScale(gray,scaleFactor= 1.1, minNeighbors = 5, minSize = (30,30))\n",
    "\n",
    "    for(x1,y1,w1,h1) in faces:\n",
    "        cv2.rectangle(frame1,(x1,y1),(x1+w1,y1+h1),(0,255,0),2)\n",
    "    \n",
    "    frame1 = frame1[:,:,0]\n",
    "    im = Image.fromarray(frame1)\n",
    "    im.save('original-img/me_org_' +str(idx)+'.jpeg')\n",
    "    frame3=frame1[y1:y1+h1,x1:x1+w1]\n",
    "    im = Image.fromarray(frame3)\n",
    "    im.save('processed-img/me_' +str(idx)+'.jpeg')\n",
    "    idx = idx +1\n",
    "#     cv2.imshow('Video', frame1)\n",
    "\n",
    "#     if(cv2.waitKey(1) & 0xff == ord('q')):\n",
    "#         break\n",
    "# video_capture.release()\n",
    "faces = ()\n",
    "cv2.destroyAllWindows()"
   ]
  },
  {
   "cell_type": "code",
   "execution_count": 5,
   "id": "a60f4152",
   "metadata": {},
   "outputs": [],
   "source": [
    "# frame1 = frame1[:,:,0]\n",
    "# im = Image.fromarray(frame1)\n",
    "# im.save('original-img/me_org.jpeg')\n",
    "# frame3=frame1[y1:y1+h1,x1:x1+w1]\n",
    "# im = Image.fromarray(frame3)\n",
    "# im.save('processed-img/me3.jpeg')"
   ]
  }
 ],
 "metadata": {
  "kernelspec": {
   "display_name": "Python 3 (ipykernel)",
   "language": "python",
   "name": "python3"
  },
  "language_info": {
   "codemirror_mode": {
    "name": "ipython",
    "version": 3
   },
   "file_extension": ".py",
   "mimetype": "text/x-python",
   "name": "python",
   "nbconvert_exporter": "python",
   "pygments_lexer": "ipython3",
   "version": "3.9.7"
  }
 },
 "nbformat": 4,
 "nbformat_minor": 5
}
